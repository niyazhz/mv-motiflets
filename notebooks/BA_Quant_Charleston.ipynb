{
 "cells": [
  {
   "cell_type": "code",
   "execution_count": 1,
   "metadata": {},
   "outputs": [
    {
     "name": "stderr",
     "output_type": "stream",
     "text": [
      "/home/niyaz/Programme/miniconda3/envs/ubuntu-motiflets-mv/lib/python3.8/site-packages/tqdm/auto.py:21: TqdmWarning: IProgress not found. Please update jupyter and ipywidgets. See https://ipywidgets.readthedocs.io/en/stable/user_install.html\n",
      "  from .autonotebook import tqdm as notebook_tqdm\n"
     ]
    }
   ],
   "source": [
    "import matplotlib as mpl\n",
    "from matplotlib.animation import FuncAnimation\n",
    "import tests.amc.amc_parser as amc_parser\n",
    "import motiflets.motiflets as mtfls\n",
    "from motiflets.plotting import *\n",
    "import motiflets_uni.motiflets as mtfls_uni\n",
    "from motiflets_uni.plotting import Motiflets as Motiflets_uni\n",
    "from sklearn.decomposition import PCA"
   ]
  },
  {
   "cell_type": "code",
   "execution_count": 2,
   "metadata": {},
   "outputs": [
    {
     "name": "stdout",
     "output_type": "stream",
     "text": [
      "Used joints: ['rfemur', 'rtibia', 'rfoot', 'rtoes', 'lfemur', 'ltibia', 'lfoot', 'ltoes']\n",
      "DatensatzLänge: 557\n",
      "(24, 557)\n"
     ]
    }
   ],
   "source": [
    "k_max = 6\n",
    "motif_length = 120\n",
    "n_dims_rest = 18\n",
    "n_dims_rest2 = 12\n",
    "\n",
    "def get_joint_pos_dict(c_joints, c_motion):\n",
    "    c_joints['root'].set_motion(c_motion)\n",
    "    out_dict = {}\n",
    "    for k1, v1 in c_joints['root'].to_dict().items():\n",
    "        for k2, v2 in zip('xyz', v1.coordinate[:, 0]):\n",
    "            out_dict['{}_{}'.format(k1, k2)] = v2\n",
    "    return out_dict\n",
    "\n",
    "\n",
    "def exclude_body_joints(df):\n",
    "    # Filter body joints as suggested by Yeh\n",
    "    exclude = ['root', 'lowerback', 'upperback',\n",
    "               'thorax', 'lowerneck', 'upperneck', 'head']\n",
    "    exclude_bones = []\n",
    "    exclude_bones.extend([x + \"_\" + k for x in exclude for k in 'xyz'])\n",
    "    exclude_bones\n",
    "\n",
    "    return df[~df.index.isin(exclude_bones)]\n",
    "\n",
    "\n",
    "def include_joints(df, include, add_xyz=True):\n",
    "    include_bones = []\n",
    "\n",
    "    if add_xyz:\n",
    "        include_bones.extend([x + \"_\" + k for x in include for k in 'xyz'])\n",
    "    else:\n",
    "        include_bones = include\n",
    "\n",
    "    return df[df.index.isin(include_bones)]\n",
    "\n",
    "amc_name = \"93_08\" \n",
    "asf_path = 'datasets/motion_data/93.asf'\n",
    "amc_path = 'datasets/motion_data/' + amc_name + '.amc'\n",
    "\n",
    "joints_to_use = ['rfemur', 'rtibia', 'rfoot', 'rtoes', 'lfemur', 'ltibia', 'lfoot', 'ltoes']\n",
    "\n",
    "add_xyz=True\n",
    "\n",
    "joints = amc_parser.parse_asf(asf_path)\n",
    "motions = amc_parser.parse_amc(amc_path)\n",
    "\n",
    "df = pd.DataFrame([get_joint_pos_dict(joints, c_motion) for c_motion in motions]).T\n",
    "df = exclude_body_joints(df)\n",
    "df = include_joints(df, joints_to_use, add_xyz=add_xyz)\n",
    "\n",
    "print(\"Used joints:\", joints_to_use)\n",
    "series = df.values\n",
    "print(f'DatensatzLänge: {series.shape[1]}')\n",
    "print(series.shape)\n"
   ]
  },
  {
   "cell_type": "code",
   "execution_count": 3,
   "metadata": {},
   "outputs": [],
   "source": [
    "def norm_extent(df_full, dists, dims, elbows):\n",
    "    dists_norm = []\n",
    "    for elbow in range(len(dists)):\n",
    "        if dims[elbow] is None:\n",
    "            dists_norm.append(None)\n",
    "            continue\n",
    "        variance = 1\n",
    "        for i, column in enumerate(df_full.T):\n",
    "            if i in dims[elbow]:\n",
    "                variance = variance + np.var(df_full.T[column].to_numpy())\n",
    "\n",
    "        dists_norm.append(dists[elbow] / np.sqrt(variance / len(dims)))\n",
    "\n",
    "    return dists_norm"
   ]
  },
  {
   "cell_type": "code",
   "execution_count": 4,
   "metadata": {},
   "outputs": [
    {
     "name": "stdout",
     "output_type": "stream",
     "text": [
      "Data (24, 557)\n"
     ]
    },
    {
     "name": "stderr",
     "output_type": "stream",
     "text": [
      "                                                     "
     ]
    },
    {
     "name": "stdout",
     "output_type": "stream",
     "text": [
      "Chosen window-size: 120 in 0.5 s\n",
      "Elbow Points [3]\n"
     ]
    },
    {
     "name": "stderr",
     "output_type": "stream",
     "text": [
      "\r"
     ]
    }
   ],
   "source": [
    "ml_full = Motiflets(amc_name, df,\n",
    "                dimension_labels=df.index\n",
    "                )\n",
    "\n",
    "dists_full, motiflets_full, motiflets_dims_full, elbow_points_full = ml_full.fit_k_elbow(\n",
    "    k_max,\n",
    "    plot_elbows=False,\n",
    "    plot_motifs_as_grid=False,\n",
    "    motif_length=motif_length)\n",
    "\n",
    "dists_full_norm = norm_extent(df, dists_full, motiflets_dims_full, elbow_points_full)"
   ]
  },
  {
   "cell_type": "code",
   "execution_count": 5,
   "metadata": {},
   "outputs": [
    {
     "name": "stdout",
     "output_type": "stream",
     "text": [
      "Data (24, 557)\n"
     ]
    },
    {
     "name": "stderr",
     "output_type": "stream",
     "text": [
      "                                                     "
     ]
    },
    {
     "name": "stdout",
     "output_type": "stream",
     "text": [
      "Chosen window-size: 120 in 0.1 s\n",
      "Elbow Points [3]\n"
     ]
    },
    {
     "name": "stderr",
     "output_type": "stream",
     "text": [
      "\r"
     ]
    }
   ],
   "source": [
    "ml_rest = Motiflets(amc_name, df,\n",
    "                dimension_labels=df.index,\n",
    "                n_dims=n_dims_rest\n",
    "                )\n",
    "\n",
    "dists_rest, motiflets_rest, motiflets_dims_rest, elbow_points_rest = ml_rest.fit_k_elbow(\n",
    "    k_max,\n",
    "    plot_elbows=False,\n",
    "    plot_motifs_as_grid=False,\n",
    "    motif_length=motif_length)\n",
    "\n",
    "dists_rest_norm = norm_extent(df, dists_rest, motiflets_dims_rest, elbow_points_rest)"
   ]
  },
  {
   "cell_type": "code",
   "execution_count": 6,
   "metadata": {},
   "outputs": [
    {
     "name": "stdout",
     "output_type": "stream",
     "text": [
      "Data (24, 557)\n"
     ]
    },
    {
     "name": "stderr",
     "output_type": "stream",
     "text": [
      "                                                     "
     ]
    },
    {
     "name": "stdout",
     "output_type": "stream",
     "text": [
      "Chosen window-size: 120 in 0.1 s\n",
      "Elbow Points [3]\n"
     ]
    },
    {
     "name": "stderr",
     "output_type": "stream",
     "text": [
      "\r"
     ]
    }
   ],
   "source": [
    "ml_rest2 = Motiflets(amc_name, df,\n",
    "                dimension_labels=df.index,\n",
    "                n_dims=n_dims_rest2\n",
    "                )\n",
    "\n",
    "dists_rest2, motiflets_rest2, motiflets_dims_rest2, elbow_points_rest2 = ml_rest2.fit_k_elbow(\n",
    "                k_max,\n",
    "                plot_elbows=False,\n",
    "                plot_motifs_as_grid=False,\n",
    "                motif_length=motif_length)\n",
    "\n",
    "dists_rest2_norm = norm_extent(df, dists_rest2, motiflets_dims_rest2, elbow_points_rest2)"
   ]
  },
  {
   "cell_type": "code",
   "execution_count": 7,
   "metadata": {},
   "outputs": [
    {
     "name": "stdout",
     "output_type": "stream",
     "text": [
      "Data 557\n"
     ]
    },
    {
     "name": "stderr",
     "output_type": "stream",
     "text": [
      "                                                     \r"
     ]
    },
    {
     "name": "stdout",
     "output_type": "stream",
     "text": [
      "Chosen window-size: 120 in 0.2 s\n",
      "Elbow Points [3]\n"
     ]
    }
   ],
   "source": [
    "pca = PCA(n_components=1)\n",
    "np_pca = pca.fit_transform(df.T)\n",
    "series_pca = pd.Series(np_pca.flatten(), index=df.T.index, name='Charleston PCA')\n",
    "\n",
    "ml_uni = Motiflets_uni(amc_name, series_pca)\n",
    "dists_uni, motiflets_uni, elbow_points_uni =  ml_uni.fit_k_elbow(\n",
    "    k_max,\n",
    "    plot_elbows=False,\n",
    "    plot_motifs_as_grid=False,\n",
    "    motif_length=motif_length)"
   ]
  },
  {
   "cell_type": "code",
   "execution_count": 8,
   "metadata": {},
   "outputs": [
    {
     "name": "stdout",
     "output_type": "stream",
     "text": [
      "[0.08835335138827732, 0.08835335138827732, 0.08835335138827732, 0.3290567984064881, 7.684874984981622, 34.95287364839298]\n"
     ]
    }
   ],
   "source": [
    "np_data = df.T.to_numpy()\n",
    "mean_centered_data = np_data - np.mean(np_data, axis=0)\n",
    "\n",
    "cov_matrix = np.cov(mean_centered_data, rowvar=False)\n",
    "eigenvalues, eigenvectors = np.linalg.eig(cov_matrix)\n",
    "\n",
    "first_eigenvalue = eigenvalues[0]\n",
    "\n",
    "dists_uni_norm = []\n",
    "for u_dist in dists_uni:\n",
    "     dists_uni_norm.append(u_dist / np.sqrt(first_eigenvalue))\n",
    "\n",
    "print(dists_uni_norm)"
   ]
  },
  {
   "cell_type": "code",
   "execution_count": 10,
   "metadata": {},
   "outputs": [
    {
     "data": {
      "image/png": "[encoded data removed]",
      "text/plain": [
       "<Figure size 1000x400 with 1 Axes>"
      ]
     },
     "metadata": {},
     "output_type": "display_data"
    }
   ],
   "source": [
    "plt.figure(figsize=(10,4))\n",
    "\n",
    "x_values = [x+2 for x in range(len(dists_full_norm[2:]))]\n",
    "\n",
    "plt.plot(x_values, dists_full_norm[2:], label=f'Unrestricted: m={df.shape[0]}')\n",
    "plt.plot(x_values, dists_rest_norm[2:], label=f'Restricted: m={n_dims_rest}')\n",
    "plt.plot(x_values, dists_rest2_norm[2:], label=f'Restricted: m={n_dims_rest2}')\n",
    "#plt.plot(x_values, dists_uni_norm[2:], label='PCA')\n",
    "\n",
    "plt.title(\"Dataset: Charleston Dance - Motion Capture\", fontsize=16)\n",
    "plt.xlabel('k', fontsize=12)\n",
    "plt.ylabel('extent d\\'', fontsize=12)\n",
    "\n",
    "plt.legend(fontsize=12)\n",
    "plt.grid()\n",
    "plt.savefig(\"../../Latex/BachelorarbeitFinal/Images/quant/charleston.pdf\", bbox_inches='tight', dpi=600)\n",
    "plt.show()"
   ]
  }
 ],
 "metadata": {
  "kernelspec": {
   "display_name": "ubuntu-motiflets-mv",
   "language": "python",
   "name": "python3"
  },
  "language_info": {
   "codemirror_mode": {
    "name": "ipython",
    "version": 3
   },
   "file_extension": ".py",
   "mimetype": "text/x-python",
   "name": "python",
   "nbconvert_exporter": "python",
   "pygments_lexer": "ipython3",
   "version": "3.8.18"
  }
 },
 "nbformat": 4,
 "nbformat_minor": 2
}
