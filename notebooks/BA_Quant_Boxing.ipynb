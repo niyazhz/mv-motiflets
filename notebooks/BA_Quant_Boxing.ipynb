{
 "cells": [
  {
   "cell_type": "code",
   "execution_count": 1,
   "metadata": {},
   "outputs": [
    {
     "name": "stderr",
     "output_type": "stream",
     "text": [
      "/home/niyaz/Programme/miniconda3/envs/ubuntu-motiflets-mv/lib/python3.8/site-packages/tqdm/auto.py:21: TqdmWarning: IProgress not found. Please update jupyter and ipywidgets. See https://ipywidgets.readthedocs.io/en/stable/user_install.html\n",
      "  from .autonotebook import tqdm as notebook_tqdm\n"
     ]
    }
   ],
   "source": [
    "import matplotlib as mpl\n",
    "from matplotlib.animation import FuncAnimation\n",
    "import tests.amc.amc_parser as amc_parser\n",
    "import motiflets.motiflets as mtfls\n",
    "from motiflets.plotting import *\n",
    "import motiflets_uni.motiflets as mtfls_uni\n",
    "from motiflets_uni.plotting import Motiflets as Motiflets_uni\n",
    "from sklearn.decomposition import PCA"
   ]
  },
  {
   "cell_type": "code",
   "execution_count": 2,
   "metadata": {},
   "outputs": [
    {
     "name": "stdout",
     "output_type": "stream",
     "text": [
      "Used joints: ['rclavicle', 'rhumerus', 'rradius', 'rwrist', 'rhand', 'rfingers', 'rthumb', 'rfemur', 'rtibia', 'rfoot', 'rtoes']\n",
      "DatensatzLänge: 4840\n",
      "(33, 4840)\n"
     ]
    }
   ],
   "source": [
    "k_max = 16\n",
    "motif_length = 100\n",
    "n_dims_rest = 25\n",
    "n_dims_rest2 = 17\n",
    "\n",
    "def get_joint_pos_dict(c_joints, c_motion):\n",
    "    c_joints['root'].set_motion(c_motion)\n",
    "    out_dict = {}\n",
    "    for k1, v1 in c_joints['root'].to_dict().items():\n",
    "        for k2, v2 in zip('xyz', v1.coordinate[:, 0]):\n",
    "            out_dict['{}_{}'.format(k1, k2)] = v2\n",
    "    return out_dict\n",
    "\n",
    "\n",
    "def exclude_body_joints(df):\n",
    "    # Filter body joints as suggested by Yeh\n",
    "    exclude = ['root', 'lowerback', 'upperback',\n",
    "               'thorax', 'lowerneck', 'upperneck', 'head']\n",
    "    exclude_bones = []\n",
    "    exclude_bones.extend([x + \"_\" + k for x in exclude for k in 'xyz'])\n",
    "    exclude_bones\n",
    "\n",
    "    return df[~df.index.isin(exclude_bones)]\n",
    "\n",
    "\n",
    "def include_joints(df, include, add_xyz=True):\n",
    "    include_bones = []\n",
    "\n",
    "    if add_xyz:\n",
    "        include_bones.extend([x + \"_\" + k for x in include for k in 'xyz'])\n",
    "    else:\n",
    "        include_bones = include\n",
    "\n",
    "    return df[df.index.isin(include_bones)]\n",
    "\n",
    "amc_name = \"13_17\" #\"Boxing Motions\"\n",
    "asf_path = \"datasets/motion_data/13.asf\"\n",
    "amc_path = 'datasets/motion_data/' + amc_name + '.amc'\n",
    "\n",
    "joints_to_use = ['rclavicle', 'rhumerus', 'rradius', 'rwrist',\n",
    "             'rhand', 'rfingers', 'rthumb',\n",
    "             'rfemur', 'rtibia', 'rfoot', 'rtoes']\n",
    "add_xyz=True\n",
    "\n",
    "joints = amc_parser.parse_asf(asf_path)\n",
    "motions = amc_parser.parse_amc(amc_path)\n",
    "\n",
    "df = pd.DataFrame([get_joint_pos_dict(joints, c_motion) for c_motion in motions]).T\n",
    "df = exclude_body_joints(df)\n",
    "df = include_joints(df, joints_to_use, add_xyz=add_xyz)\n",
    "\n",
    "print(\"Used joints:\", joints_to_use)\n",
    "series = df.values\n",
    "print(f'DatensatzLänge: {series.shape[1]}')\n",
    "print(series.shape)\n"
   ]
  },
  {
   "cell_type": "code",
   "execution_count": 3,
   "metadata": {},
   "outputs": [],
   "source": [
    "def norm_extent(df_full, dists, dims, elbows):\n",
    "    dists_norm = []\n",
    "    for elbow in range(len(dists)):\n",
    "        if dims[elbow] is None:\n",
    "            dists_norm.append(None)\n",
    "            continue\n",
    "        variance = 1\n",
    "        for i, column in enumerate(df_full.T):\n",
    "            if i in dims[elbow]:\n",
    "                variance = variance + np.var(df_full.T[column].to_numpy())\n",
    "\n",
    "        dists_norm.append(dists[elbow] / np.sqrt(variance / len(dims)))\n",
    "\n",
    "    return dists_norm"
   ]
  },
  {
   "cell_type": "code",
   "execution_count": 4,
   "metadata": {},
   "outputs": [
    {
     "name": "stdout",
     "output_type": "stream",
     "text": [
      "Data (33, 4840)\n"
     ]
    },
    {
     "name": "stderr",
     "output_type": "stream",
     "text": [
      "                                                                \r"
     ]
    },
    {
     "name": "stdout",
     "output_type": "stream",
     "text": [
      "Chosen window-size: 100 in 11.2 s\n",
      "Elbow Points [13]\n"
     ]
    }
   ],
   "source": [
    "ml_full = Motiflets(amc_name, df,\n",
    "                dimension_labels=df.index\n",
    "                )\n",
    "\n",
    "dists_full, motiflets_full, motiflets_dims_full, elbow_points_full = ml_full.fit_k_elbow(\n",
    "    k_max,\n",
    "    plot_elbows=False,\n",
    "    plot_motifs_as_grid=False,\n",
    "    motif_length=motif_length)\n",
    "\n",
    "dists_full_norm = norm_extent(df, dists_full, motiflets_dims_full, elbow_points_full)"
   ]
  },
  {
   "cell_type": "code",
   "execution_count": 5,
   "metadata": {},
   "outputs": [
    {
     "name": "stdout",
     "output_type": "stream",
     "text": [
      "Data (33, 4840)\n"
     ]
    },
    {
     "name": "stderr",
     "output_type": "stream",
     "text": [
      "                                                                \r"
     ]
    },
    {
     "name": "stdout",
     "output_type": "stream",
     "text": [
      "Chosen window-size: 100 in 8.5 s\n",
      "Elbow Points [14]\n"
     ]
    }
   ],
   "source": [
    "ml_rest = Motiflets(amc_name, df,\n",
    "                dimension_labels=df.index,\n",
    "                n_dims=n_dims_rest\n",
    "                )\n",
    "\n",
    "dists_rest, motiflets_rest, motiflets_dims_rest, elbow_points_rest = ml_rest.fit_k_elbow(\n",
    "    k_max,\n",
    "    plot_elbows=False,\n",
    "    plot_motifs_as_grid=False,\n",
    "    motif_length=motif_length)\n",
    "\n",
    "dists_rest_norm = norm_extent(df, dists_rest, motiflets_dims_rest, elbow_points_rest)"
   ]
  },
  {
   "cell_type": "code",
   "execution_count": 6,
   "metadata": {},
   "outputs": [
    {
     "name": "stdout",
     "output_type": "stream",
     "text": [
      "Data (33, 4840)\n"
     ]
    },
    {
     "name": "stderr",
     "output_type": "stream",
     "text": [
      "                                                                \r"
     ]
    },
    {
     "name": "stdout",
     "output_type": "stream",
     "text": [
      "Chosen window-size: 100 in 7.3 s\n",
      "Elbow Points [9]\n"
     ]
    }
   ],
   "source": [
    "ml_rest2 = Motiflets(amc_name, df,\n",
    "                dimension_labels=df.index,\n",
    "                n_dims=n_dims_rest2\n",
    "                )\n",
    "\n",
    "dists_rest2, motiflets_rest2, motiflets_dims_rest2, elbow_points_rest2 = ml_rest2.fit_k_elbow(\n",
    "                k_max,\n",
    "                plot_elbows=False,\n",
    "                plot_motifs_as_grid=False,\n",
    "                motif_length=motif_length)\n",
    "\n",
    "dists_rest2_norm = norm_extent(df, dists_rest2, motiflets_dims_rest2, elbow_points_rest2)"
   ]
  },
  {
   "cell_type": "code",
   "execution_count": 7,
   "metadata": {},
   "outputs": [
    {
     "data": {
      "text/plain": [
       "array([2126, 3390, 3598, 2517,  139, 4372, 1138,  522, 3266, 2305,  280,\n",
       "        968, 1653, 1966, 4552, 3853], dtype=int32)"
      ]
     },
     "execution_count": 7,
     "metadata": {},
     "output_type": "execute_result"
    }
   ],
   "source": [
    "dists_rest2[-1]\n",
    "motiflets_rest2[-1]"
   ]
  },
  {
   "cell_type": "code",
   "execution_count": 8,
   "metadata": {},
   "outputs": [
    {
     "name": "stdout",
     "output_type": "stream",
     "text": [
      "Data 4840\n"
     ]
    },
    {
     "name": "stderr",
     "output_type": "stream",
     "text": [
      "                                                       "
     ]
    },
    {
     "name": "stdout",
     "output_type": "stream",
     "text": [
      "Chosen window-size: 100 in 0.3 s\n",
      "Elbow Points [11]\n"
     ]
    },
    {
     "name": "stderr",
     "output_type": "stream",
     "text": [
      "\r"
     ]
    }
   ],
   "source": [
    "pca = PCA(n_components=1)\n",
    "np_pca = pca.fit_transform(df.T)\n",
    "series_pca = pd.Series(np_pca.flatten(), index=df.T.index, name='Boxing PCA')\n",
    "\n",
    "ml_uni = Motiflets_uni(amc_name, series_pca)\n",
    "dists_uni, motiflets_uni, elbow_points_uni =  ml_uni.fit_k_elbow(\n",
    "    k_max,\n",
    "    plot_elbows=False,\n",
    "    plot_motifs_as_grid=False,\n",
    "    motif_length=motif_length)"
   ]
  },
  {
   "cell_type": "code",
   "execution_count": 9,
   "metadata": {},
   "outputs": [
    {
     "name": "stdout",
     "output_type": "stream",
     "text": [
      "[0.00638630055455362, 0.00638630055455362, 0.00638630055455362, 0.023311809590198695, 0.03517251969244893, 0.04014473276508472, 0.06970055302795411, 0.09317870366833635, 0.09967876630075281, 0.12125017885814827, 0.19299870000409844, 0.20586608229705883, 0.24121831389379803, 0.304644026412067, 0.4139945968192674, 0.4868166485705352]\n"
     ]
    }
   ],
   "source": [
    "np_data = df.T.to_numpy()\n",
    "mean_centered_data = np_data - np.mean(np_data, axis=0)\n",
    "\n",
    "cov_matrix = np.cov(mean_centered_data, rowvar=False)\n",
    "eigenvalues, eigenvectors = np.linalg.eig(cov_matrix)\n",
    "\n",
    "first_eigenvalue = eigenvalues[0]\n",
    "\n",
    "dists_uni_norm = []\n",
    "for u_dist in dists_uni:\n",
    "     dists_uni_norm.append(u_dist / np.sqrt(first_eigenvalue))\n",
    "\n",
    "print(dists_uni_norm)"
   ]
  },
  {
   "cell_type": "code",
   "execution_count": 10,
   "metadata": {},
   "outputs": [
    {
     "data": {
      "image/png": "[encoded data removed]",
      "text/plain": [
       "<Figure size 1000x400 with 1 Axes>"
      ]
     },
     "metadata": {},
     "output_type": "display_data"
    }
   ],
   "source": [
    "plt.figure(figsize=(10,4))\n",
    "\n",
    "x_values = [x+2 for x in range(len(dists_full_norm[2:]))]\n",
    "\n",
    "plt.plot(x_values, dists_full_norm[2:], label=f'Unrestricted: m={df.shape[0]}')\n",
    "plt.plot(x_values, dists_rest_norm[2:], label=f'Restricted: m={n_dims_rest}')\n",
    "plt.plot(x_values, dists_rest2_norm[2:], label=f'Restricted: m={n_dims_rest2}')\n",
    "#plt.plot(x_values, dists_uni_norm[2:], label='PCA')\n",
    "\n",
    "plt.title(\"Dataset: Boxing - Motion Capture\", fontsize=16)\n",
    "plt.xlabel('k', fontsize=12)\n",
    "plt.ylabel('extent d\\'', fontsize=12)\n",
    "\n",
    "plt.legend(fontsize=12)\n",
    "plt.grid()\n",
    "\n",
    "plt.savefig(\"../../Latex/BachelorarbeitFinal/Images/quant/boxing.pdf\", bbox_inches='tight', dpi=600)\n",
    "\n",
    "plt.show()"
   ]
  }
 ],
 "metadata": {
  "kernelspec": {
   "display_name": "ubuntu-motiflets-mv",
   "language": "python",
   "name": "python3"
  },
  "language_info": {
   "codemirror_mode": {
    "name": "ipython",
    "version": 3
   },
   "file_extension": ".py",
   "mimetype": "text/x-python",
   "name": "python",
   "nbconvert_exporter": "python",
   "pygments_lexer": "ipython3",
   "version": "3.8.18"
  }
 },
 "nbformat": 4,
 "nbformat_minor": 2
}
