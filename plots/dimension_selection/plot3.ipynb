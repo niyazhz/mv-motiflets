{
 "cells": [
  {
   "cell_type": "code",
   "execution_count": 1,
   "metadata": {},
   "outputs": [
    {
     "name": "stderr",
     "output_type": "stream",
     "text": [
      "/home/niyaz/Programme/miniconda3/envs/ubuntu-motiflets-mv/lib/python3.8/site-packages/tqdm/auto.py:21: TqdmWarning: IProgress not found. Please update jupyter and ipywidgets. See https://ipywidgets.readthedocs.io/en/stable/user_install.html\n",
      "  from .autonotebook import tqdm as notebook_tqdm\n"
     ]
    }
   ],
   "source": [
    "import pandas as pd\n",
    "import numpy as np\n",
    "import matplotlib.pyplot as plt\n",
    "import matplotlib.colors as mcolors\n",
    "from matplotlib.ticker import FixedLocator\n",
    "import matplotlib.gridspec as gridspec\n",
    "import random\n",
    "import motiflets as mtf\n",
    "\n",
    "plt.rcParams['figure.figsize'] = [11, 9]\n",
    "\n",
    "title_fontsize = 20\n",
    "label_fontsize = 16\n",
    "marker_size = 8\n",
    "line_width = 4"
   ]
  },
  {
   "cell_type": "code",
   "execution_count": 2,
   "metadata": {},
   "outputs": [],
   "source": [
    "arr = np.array([[2,2,5,5,2,2,6,6,2,2,4,4,2,2], [2,2,6,3,2,2,4,3,2,2,5,3,2,2], [6,2,4,2,3,1,6,5,3,2,4,5,2,4]])\n",
    "#c_arr = np.zeros((len(arr),len(arr[0])))\n",
    "\n",
    "\n",
    "s_len = 4\n",
    "k_max = 3\n",
    "k = k_max\n",
    "D_full, knns = mtf.compute_distance_matrix(\n",
    "        arr, s_len, k_max,\n",
    "        slack=0.5,\n",
    "        sum_dims=False)"
   ]
  },
  {
   "cell_type": "code",
   "execution_count": 3,
   "metadata": {},
   "outputs": [
    {
     "name": "stdout",
     "output_type": "stream",
     "text": [
      "[[ 8  0  4]\n",
      " [ 9  5  1]\n",
      " [10  2  6]\n",
      " [ 3  7  0]\n",
      " [ 0  8  4]\n",
      " [ 5  1  9]\n",
      " [ 2  6 10]\n",
      " [ 7  3 10]\n",
      " [ 0  8  4]\n",
      " [ 5  1  9]\n",
      " [10  2  6]]\n"
     ]
    }
   ],
   "source": [
    "print(knns[0])"
   ]
  },
  {
   "cell_type": "code",
   "execution_count": 11,
   "metadata": {},
   "outputs": [],
   "source": [
    "use_dim = 2\n",
    "last_knns = knns[:,:,k-1]\n",
    "last_knns_distance = np.take_along_axis(D_full, last_knns[:,:,None], axis=2)\n",
    "argsort_last_knns = np.argsort(last_knns_distance, axis=0)[:use_dim]\n",
    "\n",
    "#best_dims = argsort_last_knns.transpose(1, 0, 2).reshape(argsort_last_knns.shape[1], use_dim)\n",
    "\n",
    "best_dims = argsort_last_knns.reshape((use_dim, knns.shape[1])).T\n",
    "\n",
    "\n"
   ]
  },
  {
   "cell_type": "code",
   "execution_count": 17,
   "metadata": {},
   "outputs": [],
   "source": [
    "#print(last_knns.T)\n",
    "#print(last_knns_distance)\n",
    "print(best_dims)\n",
    "#print(np.take_along_axis(D_full, last_knns.T[:,:,None], axis=2))"
   ]
  }
 ],
 "metadata": {
  "kernelspec": {
   "display_name": "motiflets",
   "language": "python",
   "name": "python3"
  },
  "language_info": {
   "codemirror_mode": {
    "name": "ipython",
    "version": 3
   },
   "file_extension": ".py",
   "mimetype": "text/x-python",
   "name": "python",
   "nbconvert_exporter": "python",
   "pygments_lexer": "ipython3",
   "version": "3.8.18"
  }
 },
 "nbformat": 4,
 "nbformat_minor": 2
}
